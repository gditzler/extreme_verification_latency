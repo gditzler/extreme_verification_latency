{
 "cells": [
  {
   "cell_type": "code",
   "execution_count": 1,
   "metadata": {},
   "outputs": [
    {
     "name": "stdout",
     "output_type": "stream",
     "text": [
      "time pickle:  227.58373928070068\n",
      "results pickle:                0                      1\n",
      "0        Dataset               UG_2C_2D\n",
      "1     Classifier      label_propagation\n",
      "2         Method                    gmm\n",
      "3      Avg_Error  0.0001018054037073167\n",
      "4   Avg_Accuracy     0.9898194596292688\n",
      "5  Avg_Exec_Time     0.6175133917066786\n",
      "time pickle:  400.9855077266693\n",
      "results pickle:                0                       1\n",
      "0        Dataset                MG_2C_2D\n",
      "1     Classifier       label_propagation\n",
      "2         Method                     gmm\n",
      "3      Avg_Error  5.0894054850943785e-05\n",
      "4   Avg_Accuracy      0.9949105945149053\n",
      "5  Avg_Exec_Time      1.6226686588441483\n",
      "time pickle:  56.59444713592529\n",
      "results pickle:                0                      1\n",
      "0        Dataset                   1CDT\n",
      "1     Classifier      label_propagation\n",
      "2         Method                    gmm\n",
      "3      Avg_Error  0.0004989457945388389\n",
      "4   Avg_Accuracy     0.9501054205461162\n",
      "5  Avg_Exec_Time     0.1681646261459742\n",
      "time pickle:  57.18949365615845\n",
      "results pickle:                0                      1\n",
      "0        Dataset                   2CDT\n",
      "1     Classifier      label_propagation\n",
      "2         Method                    gmm\n",
      "3      Avg_Error  0.0004984118175996518\n",
      "4   Avg_Accuracy     0.9501588182400348\n",
      "5  Avg_Exec_Time    0.17192492729578263\n"
     ]
    }
   ],
   "source": [
    "import run_experiments\n",
    "\n",
    "run_experiments.RunExperiment()"
   ]
  }
 ],
 "metadata": {
  "interpreter": {
   "hash": "31f2aee4e71d21fbe5cf8b01ff0e069b9275f58929596ceb00d14d90e3e16cd6"
  },
  "kernelspec": {
   "display_name": "Python 3.8.9 64-bit",
   "language": "python",
   "name": "python3"
  },
  "language_info": {
   "codemirror_mode": {
    "name": "ipython",
    "version": 3
   },
   "file_extension": ".py",
   "mimetype": "text/x-python",
   "name": "python",
   "nbconvert_exporter": "python",
   "pygments_lexer": "ipython3",
   "version": "3.9.7"
  },
  "orig_nbformat": 4
 },
 "nbformat": 4,
 "nbformat_minor": 2
}
