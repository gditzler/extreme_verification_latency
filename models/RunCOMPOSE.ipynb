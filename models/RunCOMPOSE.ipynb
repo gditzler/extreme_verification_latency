{
 "cells": [
  {
   "cell_type": "markdown",
   "metadata": {},
   "source": [
    "Running Extreme Verification Latency Algorithms with the following classifiers: \n",
    "QN_S3VM\n",
    "Label Propagation\n",
    "\n",
    "The following parameters need to be passed in: \n",
    "1. classifier : QN_S3VM or label_propagation \n",
    "2. method : type of clustering 'gmm' or 'a_shape'\n",
    "    - gmm accounts for Fast COMPOSE\n",
    "    - a_shape accounts for alpha shapes\n",
    "3. verbose : 0: doesnt print out , 1 prints to command line \n",
    "4. num_cores: percent in which you wish to operate 0.8 = 80% of available cores \n",
    "5. selected dataset : options available :\n",
    "['UG_2C_2D','MG_2C_2D','1CDT', '2CDT', 'UG_2C_3D','1CHT','2CHT','4CR','4CREV1','4CREV2','5CVT','1CSURR', '4CE1CF','FG_2C_2D','GEARS_2C_2D', 'keystroke', 'UG_2C_5D', 'UnitTest']\n",
    "\n",
    "You are able to run in batch mode by running run_experiments.py \n",
    "\n",
    "You will need to instantiate RunExperiment Class and pass in the experiments, classifier, verbose, dataset, and number of cores. \n",
    "\n",
    "The number of cores is a percentage in which you want to operate: 1.0 means you will use all available cores, 0.8 means that you will use 80% of avaialable cores."
   ]
  },
  {
   "cell_type": "code",
   "execution_count": null,
   "metadata": {},
   "outputs": [],
   "source": [
    "import run_experiments\n",
    "\n",
    "experiment = run_experiments.RunExperiment(experiements=['fast_compose', 'compose'], classifier=['QN_S3VM', 'label_propagation'], \n",
    "                                            verbose=0, datasets=['UG_2C_2D','MG_2C_2D','1CDT', '2CDT'], num_cores=0.8)\n"
   ]
  }
 ],
 "metadata": {
  "interpreter": {
   "hash": "40d3a090f54c6569ab1632332b64b2c03c39dcf918b08424e98f38b5ae0af88f"
  },
  "kernelspec": {
   "display_name": "Python 3.7.4 ('base')",
   "language": "python",
   "name": "python3"
  },
  "language_info": {
   "codemirror_mode": {
    "name": "ipython",
    "version": 3
   },
   "file_extension": ".py",
   "mimetype": "text/x-python",
   "name": "python",
   "nbconvert_exporter": "python",
   "pygments_lexer": "ipython3",
   "version": "3.7.4"
  },
  "orig_nbformat": 4
 },
 "nbformat": 4,
 "nbformat_minor": 2
}
